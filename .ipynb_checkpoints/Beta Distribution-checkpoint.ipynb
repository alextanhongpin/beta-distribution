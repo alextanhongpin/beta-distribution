{
 "cells": [
  {
   "cell_type": "markdown",
   "metadata": {},
   "source": [
    "# Beta Distribution\n",
    "\n",
    "A continuous probability distribution having two parameters.\n",
    "\n",
    "It is used to model one's uncertainty about the probability of success of an experiment.\n"
   ]
  },
  {
   "cell_type": "markdown",
   "metadata": {},
   "source": [
    "## References\n",
    "\n",
    "1. https://www.statlect.com/probability-distributions/beta-distribution\n",
    "2. https://brilliant.org/wiki/beta-function/\n",
    "3. https://www.johndcook.com/blog/2011/09/27/bayesian-amazon/\n",
    "4. https://stats.stackexchange.com/questions/47771/what-is-the-intuition-behind-beta-distribution\n",
    "5. http://varianceexplained.org/statistics/beta_distribution_and_baseball/\n",
    "6. http://www.real-statistics.com/binomial-and-related-distributions/beta-distribution/\n",
    "7. https://sl8r000.github.io/ab_testing_statistics//use_the_beta_distribution/\n"
   ]
  }
 ],
 "metadata": {
  "kernelspec": {
   "display_name": "Python 3",
   "language": "python",
   "name": "python3"
  },
  "language_info": {
   "codemirror_mode": {
    "name": "ipython",
    "version": 3
   },
   "file_extension": ".py",
   "mimetype": "text/x-python",
   "name": "python",
   "nbconvert_exporter": "python",
   "pygments_lexer": "ipython3",
   "version": "3.6.2"
  }
 },
 "nbformat": 4,
 "nbformat_minor": 2
}
