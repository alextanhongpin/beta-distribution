{
 "cells": [
  {
   "cell_type": "markdown",
   "metadata": {},
   "source": [
    "https://docs.scipy.org/doc/scipy-0.15.1/reference/generated/scipy.stats.beta.html"
   ]
  },
  {
   "cell_type": "code",
   "execution_count": 34,
   "metadata": {
    "collapsed": false
   },
   "outputs": [
    {
     "data": {
      "image/png": "[encoded data removed]",
      "text/plain": [
       "<matplotlib.figure.Figure at 0x1143554a8>"
      ]
     },
     "metadata": {},
     "output_type": "display_data"
    }
   ],
   "source": [
    "from scipy.stats import beta\n",
    "import numpy as np\n",
    "import matplotlib.pyplot as plt\n",
    "\n",
    "fig, ax = plt.subplots(1, 1)\n",
    "\n",
    "# Calculate the few first moments\n",
    "a, b = 2.30984964515, 0.62687954301\n",
    "mean, var, skew, kurt = beta.stats(a, b, moments='mvsk')\n",
    "\n",
    "# Display the probability density function (pdf)\n",
    "x = np.linspace(beta.ppf(0.01, a, b),\n",
    "                beta.ppf(0.99, a, b), 100)\n",
    "ax.plot(x, beta.pdf(x, a, b),\n",
    "       'r-', lw=5, alpha=0.6, label='beta pdf')\n",
    "\n",
    "# Alternatively freeze the distribution and display the frozen pdf\n",
    "rv = beta(a, b)\n",
    "ax.plot(x, rv.pdf(x), 'k-', lw=2, label='frozen pdf')\n",
    "\n",
    "# Check accuracy of cdf and ppf\n",
    "vals = beta.ppf([0.001, 0.5, 0.999], a, b)\n",
    "np.allclose([0.001, 0.5, 0.999], beta.cdf(vals, a, b))\n",
    "\n",
    "# Generate random numbers\n",
    "r = beta.rvs(a, b, size=1000)\n",
    "\n",
    "# And compare the histogram\n",
    "ax.hist(r, normed=True, histtype='stepfilled', alpha=0.2)\n",
    "\n",
    "# r2 = beta.rvs(10, 1, size=1000)\n",
    "# ax.hist(r2, normed=True, histtype='stepfilled', alpha=0.2)\n",
    "\n",
    "# r3 = beta.rvs(1, 10, size=1000)\n",
    "# ax.hist(r3, normed=True, histtype='stepfilled', alpha=0.2)\n",
    "\n",
    "\n",
    "ax.legend(loc='best', frameon=False)\n",
    "plt.show()"
   ]
  }
 ],
 "metadata": {
  "kernelspec": {
   "display_name": "Python 3",
   "language": "python",
   "name": "python3"
  },
  "language_info": {
   "codemirror_mode": {
    "name": "ipython",
    "version": 3
   },
   "file_extension": ".py",
   "mimetype": "text/x-python",
   "name": "python",
   "nbconvert_exporter": "python",
   "pygments_lexer": "ipython3",
   "version": "3.6.2"
  }
 },
 "nbformat": 4,
 "nbformat_minor": 2
}
